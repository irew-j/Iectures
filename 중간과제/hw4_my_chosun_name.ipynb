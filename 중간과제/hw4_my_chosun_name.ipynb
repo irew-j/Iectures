{
 "cells": [
  {
   "cell_type": "code",
   "execution_count": 1,
   "id": "ba2cbc4e-c673-4cff-8a48-4bf04c668fa5",
   "metadata": {},
   "outputs": [],
   "source": [
    "def get_my_chosun_name(family_name, month, day):\n",
    "    months = ['쌍', '쇠', '복', '돌', '팽', '육', '쌍', '개', '칠', '갑', '삼', '방']\n",
    "    days = ['봉', '구', '욕', '포', '똥', '삼', '식', '석', '놈', '님', '년', '돌', '단', '득', '방', '질', '장', '걸', '래', '룡', '동', '순', '자', '박', '창', '언', '것', '포', '만', '단', '국']\n",
    "\n",
    "    first_name = months[month-1]\n",
    "    second_name = days[day-1]\n",
    "\n",
    "    chosun_name = family_name + first_name + second_name\n",
    "    return f\"당신의 조선시대 이름은 {chosun_name} 입니다.\""
   ]
  },
  {
   "cell_type": "code",
   "execution_count": 2,
   "id": "721f9a6f-2a5a-43e7-90ac-f74d38224c25",
   "metadata": {},
   "outputs": [
    {
     "data": {
      "text/plain": [
       "'당신의 조선시대 이름은 안칠걸 입니다.'"
      ]
     },
     "execution_count": 2,
     "metadata": {},
     "output_type": "execute_result"
    }
   ],
   "source": [
    "get_my_chosun_name('안', 9, 18)"
   ]
  },
  {
   "cell_type": "code",
   "execution_count": null,
   "id": "f8c534c8-069a-4bbc-9764-c9f26d51ff1d",
   "metadata": {},
   "outputs": [],
   "source": []
  }
 ],
 "metadata": {
  "kernelspec": {
   "display_name": "Python 3 (ipykernel)",
   "language": "python",
   "name": "python3"
  },
  "language_info": {
   "codemirror_mode": {
    "name": "ipython",
    "version": 3
   },
   "file_extension": ".py",
   "mimetype": "text/x-python",
   "name": "python",
   "nbconvert_exporter": "python",
   "pygments_lexer": "ipython3",
   "version": "3.11.7"
  }
 },
 "nbformat": 4,
 "nbformat_minor": 5
}
