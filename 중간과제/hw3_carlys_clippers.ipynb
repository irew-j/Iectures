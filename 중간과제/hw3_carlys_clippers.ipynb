{
 "cells": [
  {
   "cell_type": "code",
   "execution_count": 1,
   "id": "d20af56f-6ae5-455a-a84b-5c80d9109b85",
   "metadata": {},
   "outputs": [],
   "source": [
    "import numpy as np"
   ]
  },
  {
   "cell_type": "code",
   "execution_count": 2,
   "id": "43481282-7cd8-476a-9335-9835d9a985ba",
   "metadata": {},
   "outputs": [],
   "source": [
    "hairstyles = np.array([\"bouffant\", \"pixie\", \"dreadlocks\", \"crew\", \"bowl\", \"bob\", \"mohawk\", \"flattop\"])\n",
    "prices = np.array([30, 25, 40, 20, 20, 35, 50, 35])\n",
    "last_week = np.array([2, 3, 5, 8, 4, 4, 6, 2])"
   ]
  },
  {
   "cell_type": "code",
   "execution_count": 3,
   "id": "2398cd58-ae46-4847-bdbe-8199c2cf2ade",
   "metadata": {},
   "outputs": [],
   "source": [
    "total_price = 0"
   ]
  },
  {
   "cell_type": "code",
   "execution_count": 4,
   "id": "161777d9-b008-4f82-9b42-f9096509c5f2",
   "metadata": {},
   "outputs": [],
   "source": [
    "for price in prices:\n",
    "    total_price += price"
   ]
  },
  {
   "cell_type": "code",
   "execution_count": 5,
   "id": "769b0c0a-9863-4198-b0d8-b95477968752",
   "metadata": {},
   "outputs": [],
   "source": [
    "average_price = total_price / len(prices)"
   ]
  },
  {
   "cell_type": "code",
   "execution_count": 6,
   "id": "814ae126-9a15-4fde-9b8a-dae90a9057cb",
   "metadata": {},
   "outputs": [
    {
     "name": "stdout",
     "output_type": "stream",
     "text": [
      "Average price is  31.875\n"
     ]
    }
   ],
   "source": [
    "print('Average price is ', average_price)"
   ]
  },
  {
   "cell_type": "code",
   "execution_count": 7,
   "id": "6891009d-f08b-4853-aab9-55df2ad0bf75",
   "metadata": {},
   "outputs": [],
   "source": [
    "new_prices = prices - 5"
   ]
  },
  {
   "cell_type": "code",
   "execution_count": 8,
   "id": "4d9022fd-825d-49ef-bb94-01968b66208b",
   "metadata": {},
   "outputs": [
    {
     "name": "stdout",
     "output_type": "stream",
     "text": [
      "[25 20 35 15 15 30 45 30]\n"
     ]
    }
   ],
   "source": [
    "print(new_prices)"
   ]
  },
  {
   "cell_type": "code",
   "execution_count": 9,
   "id": "6a07cc06-30aa-4391-90c3-27abce174cd2",
   "metadata": {},
   "outputs": [],
   "source": [
    "total_revenue = 0"
   ]
  },
  {
   "cell_type": "code",
   "execution_count": 10,
   "id": "3ab416dc-bd7d-4d2b-a48d-79699181dafa",
   "metadata": {},
   "outputs": [],
   "source": [
    "for i in range(len(hairstyles)):\n",
    "    total_revenue += prices[i] * last_week[i]"
   ]
  },
  {
   "cell_type": "code",
   "execution_count": 11,
   "id": "a21da223-4fcd-4512-a070-9a8edf0f91f1",
   "metadata": {},
   "outputs": [
    {
     "data": {
      "text/plain": [
       "1085"
      ]
     },
     "execution_count": 11,
     "metadata": {},
     "output_type": "execute_result"
    }
   ],
   "source": [
    "total_revenue"
   ]
  },
  {
   "cell_type": "code",
   "execution_count": 12,
   "id": "83f01401-4265-4496-8929-16b1c753937e",
   "metadata": {},
   "outputs": [],
   "source": [
    "average_daily_revenue = total_revenue / 7"
   ]
  },
  {
   "cell_type": "code",
   "execution_count": 13,
   "id": "fc1cbc7e-6e0b-40e9-8e67-4fb94360d4e8",
   "metadata": {},
   "outputs": [
    {
     "name": "stdout",
     "output_type": "stream",
     "text": [
      "Average daily revenue is  155.0\n"
     ]
    }
   ],
   "source": [
    "print('Average daily revenue is ', average_daily_revenue)"
   ]
  },
  {
   "cell_type": "code",
   "execution_count": 14,
   "id": "94134932-0c06-456f-b041-76791cb9ec94",
   "metadata": {},
   "outputs": [],
   "source": [
    "cuts_under_30 = [hairstyles[i] for i in range(len(new_prices) - 1) if new_prices[i] < 30]"
   ]
  },
  {
   "cell_type": "code",
   "execution_count": 15,
   "id": "5035819f-bebc-4b63-829e-1923ea670ae0",
   "metadata": {},
   "outputs": [
    {
     "name": "stdout",
     "output_type": "stream",
     "text": [
      "['bouffant', 'pixie', 'crew', 'bowl']\n"
     ]
    }
   ],
   "source": [
    "print(cuts_under_30)"
   ]
  },
  {
   "cell_type": "code",
   "execution_count": null,
   "id": "99adb943-53bd-4302-add1-f677387afa69",
   "metadata": {},
   "outputs": [],
   "source": []
  }
 ],
 "metadata": {
  "kernelspec": {
   "display_name": "Python 3 (ipykernel)",
   "language": "python",
   "name": "python3"
  },
  "language_info": {
   "codemirror_mode": {
    "name": "ipython",
    "version": 3
   },
   "file_extension": ".py",
   "mimetype": "text/x-python",
   "name": "python",
   "nbconvert_exporter": "python",
   "pygments_lexer": "ipython3",
   "version": "3.11.7"
  }
 },
 "nbformat": 4,
 "nbformat_minor": 5
}
